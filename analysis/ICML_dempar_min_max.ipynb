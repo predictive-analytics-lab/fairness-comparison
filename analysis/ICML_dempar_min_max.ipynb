{
 "cells": [
  {
   "cell_type": "code",
   "execution_count": 3,
   "metadata": {},
   "outputs": [],
   "source": [
    "%matplotlib inline\n",
    "import plot_helpers as ph\n",
    "from matplotlib import pyplot as plt"
   ]
  },
  {
   "cell_type": "code",
   "execution_count": 4,
   "metadata": {},
   "outputs": [],
   "source": [
    "fairgp1_files = [\n",
    "    ('../results/ICML/adult/gpyt2500_dempar_race.csv', ''),\n",
    "    ('../results/ICML/adult/gpyt2500_dempar_sex.csv', ''),\n",
    "]\n",
    "def label_change(label):\n",
    "    parts = label.split('_')\n",
    "    mode = parts[-1]\n",
    "    in_True = parts[4] == \"True\"\n",
    "    if not in_True:\n",
    "        return\n",
    "    optional_star = \"*\" if in_True else \"\"\n",
    "    with_s = \", use $s$\" if in_True else \"\"\n",
    "    #return f\"FairGPparity{optional_star}\", in_True\n",
    "    return \"average\" if mode == \"True\" else mode, True\n",
    "\n",
    "fairgp1 = ph.parse_all(fairgp1_files, label_change)"
   ]
  },
  {
   "cell_type": "code",
   "execution_count": 5,
   "metadata": {},
   "outputs": [],
   "source": [
    "fairgp2_files = [\n",
    "    ('../results/ICML/adult/gpyt2500_dempar_min_max_race.csv', ''),\n",
    "    ('../results/ICML/adult/gpyt2500_dempar_min_max_sex.csv', ''),\n",
    "]\n",
    "def label_change(label):\n",
    "    parts = label.split('_')\n",
    "    mode = parts[-1]\n",
    "    in_True = parts[4] == \"True\"\n",
    "    if not in_True:\n",
    "        return\n",
    "    optional_star = \"*\" if in_True else \"\"\n",
    "    with_s = \", use $s$\" if in_True else \"\"\n",
    "    #return f\"FairGPparity{optional_star}\", in_True\n",
    "    return \"average\" if mode == \"True\" else mode, True\n",
    "\n",
    "fairgp2 = ph.parse_all(fairgp2_files, label_change)"
   ]
  },
  {
   "cell_type": "code",
   "execution_count": 6,
   "metadata": {},
   "outputs": [],
   "source": [
    "fairgp = ph.merge_plot_defs(fairgp1, fairgp2)"
   ]
  },
  {
   "cell_type": "code",
   "execution_count": 12,
   "metadata": {},
   "outputs": [],
   "source": [
    "fairgp = ph.choose_entries(fairgp, [2, 0, 1])"
   ]
  },
  {
   "cell_type": "code",
   "execution_count": 28,
   "metadata": {},
   "outputs": [],
   "source": [
    "def acc_vs_di(plot, legend, *data):\n",
    "    xaxis = ('DIbinary', '$PR_{s=0}\\\\,/\\\\,PR_{s=1}$')\n",
    "    yaxis = ('accuracy', 'accuracy')\n",
    "    legends = []\n",
    "    startindex = 0\n",
    "\n",
    "#     plot.axvline(x=1.0, linestyle='--', color='k', label=None if legend is None else \"perfect fair\")\n",
    "    for data_structure in data:\n",
    "        legends += [ph.errorbox(plot, data_structure, xaxis, yaxis, legend=legend, firstcolor=startindex // 2, firstshape=startindex)]\n",
    "        startindex += len(data_structure.entries)\n",
    "    if legend is not None:\n",
    "        return legends"
   ]
  },
  {
   "cell_type": "code",
   "execution_count": 36,
   "metadata": {},
   "outputs": [
    {
     "data": {
      "image/png": "[encoded data removed]",
      "text/plain": [
       "<Figure size 432x126 with 2 Axes>"
      ]
     },
     "execution_count": 36,
     "metadata": {},
     "output_type": "execute_result"
    },
    {
     "data": {
      "image/png": "[encoded data removed]",
      "text/plain": [
       "<Figure size 432x126 with 2 Axes>"
      ]
     },
     "metadata": {
      "needs_background": "light"
     },
     "output_type": "display_data"
    }
   ],
   "source": [
    "fig, plots = plt.subplots(ncols=2, figsize=(6, 1.75))\n",
    "\n",
    "acc_vs_di(plots[0], None, fairgp[0])\n",
    "plots[0].set_title(\"(a) sensitive: race\", loc='left')\n",
    "plots[0].set_ylim(0.845, 0.855)\n",
    "# plots[0].set_xlim(0.07, 0.38)\n",
    "\n",
    "legends = acc_vs_di(plots[1], ('outside', 0.8), fairgp[1])\n",
    "plots[1].set_title(\"(b) sensitive: sex\", loc='left')\n",
    "plots[1].set_ylim(0.84, 0.85)\n",
    "# plots[0].set_xlim(0.07, 0.38)\n",
    "\n",
    "fig.tight_layout()\n",
    "fig.subplots_adjust(bottom=0, wspace=0.52)\n",
    "fig.savefig(\"/Users/tk324/dev/latex/Tunable_Fairness_ICML/figures/adult_tar_choice.pdf\",\n",
    "            dpi=200, bbox_extra_artists=legends, bbox_inches='tight', pad_inches=0)\n",
    "fig"
   ]
  },
  {
   "cell_type": "code",
   "execution_count": null,
   "metadata": {},
   "outputs": [],
   "source": []
  }
 ],
 "metadata": {
  "kernelspec": {
   "display_name": "Python 3",
   "language": "python",
   "name": "python3"
  },
  "language_info": {
   "codemirror_mode": {
    "name": "ipython",
    "version": 3
   },
   "file_extension": ".py",
   "mimetype": "text/x-python",
   "name": "python",
   "nbconvert_exporter": "python",
   "pygments_lexer": "ipython3",
   "version": "3.7.0"
  }
 },
 "nbformat": 4,
 "nbformat_minor": 2
}
