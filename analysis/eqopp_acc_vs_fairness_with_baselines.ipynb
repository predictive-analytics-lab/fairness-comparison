{
 "cells": [
  {
   "cell_type": "code",
   "execution_count": 1,
   "metadata": {
    "collapsed": true
   },
   "outputs": [],
   "source": [
    "%matplotlib inline\n",
    "from matplotlib import pyplot as plt\n",
    "import plot_helpers as ph\n",
    "from plot_helpers import PlotDef, DataEntry"
   ]
  },
  {
   "cell_type": "code",
   "execution_count": 2,
   "metadata": {},
   "outputs": [],
   "source": [
    "fairgp_files = [\n",
    "    ('../results/eq_opp_varying_tpr_2018-09-12/propublica-recidivism_race_numerical-binsensitive.csv', 'Propublica (race)'),\n",
    "    ('../results/eq_opp_varying_tpr_2018-09-12/propublica-recidivism_sex_numerical-binsensitive.csv', 'Propublica (gender)'),\n",
    "]\n",
    "def label_change(label):\n",
    "    parts = label.split('_')\n",
    "    #mode = parts[-1]\n",
    "    in_True = parts[4] == \"True\"\n",
    "    optional_star = \"*\" if in_True else \"\"\n",
    "    return f\"FairGPopp{optional_star}\", in_True\n",
    "    #return \"average\" if mode == \"True\" else mode, True\n",
    "\n",
    "def filter_algos(label):\n",
    "    return \"tnr\" not in label\n",
    "\n",
    "fairgp = ph.parse_all(fairgp_files, filter_algos, mapping=label_change)"
   ]
  },
  {
   "cell_type": "code",
   "execution_count": 3,
   "metadata": {
    "collapsed": true
   },
   "outputs": [],
   "source": [
    "baseline_files = [\n",
    "    ('../results/eq_opp_propublic_2018-08-28/propublica-recidivism_race_baseline.csv', 'Propublica (race)'),\n",
    "    ('../results/eq_opp_propublic_2018-08-28/propublica-recidivism_sex_baseline.csv', 'Propublica (gender)'),\n",
    "]\n",
    "def label_change(label):\n",
    "    return label, True\n",
    "\n",
    "def filter_algos(label):\n",
    "    algos = [\n",
    "        'ZafarEqOpp',\n",
    "        'SVM',\n",
    "        'GP',\n",
    "        #'DecisionTree',\n",
    "    ]\n",
    "    return label in algos\n",
    "\n",
    "baselines = ph.parse_all(baseline_files, filter_algos, mapping=label_change)"
   ]
  },
  {
   "cell_type": "code",
   "execution_count": 4,
   "metadata": {
    "collapsed": true
   },
   "outputs": [],
   "source": [
    "data = ph.merge_plot_defs(fairgp, baselines)"
   ]
  },
  {
   "cell_type": "code",
   "execution_count": 5,
   "metadata": {
    "collapsed": true
   },
   "outputs": [],
   "source": [
    "#data = ph.reorder_entries(data, [0, 1, 2, 3, 4, 5])"
   ]
  },
  {
   "cell_type": "code",
   "execution_count": 14,
   "metadata": {},
   "outputs": [
    {
     "data": {
      "image/png": "[encoded data removed]",
      "text/plain": [
       "<matplotlib.figure.Figure at 0x10d40f0b8>"
      ]
     },
     "metadata": {},
     "output_type": "display_data"
    }
   ],
   "source": [
    "yaxis = ('accuracy', 'accuracy')\n",
    "fig, plots = plt.subplots(ncols=2, figsize=(15, 4.5))\n",
    "ph.errorbox(plots[0], data[0], ('race-TPRRatio', 'TPR diff'), yaxis)\n",
    "#plots[0].set_xlim(1.0, 1.25)\n",
    "ph.errorbox(plots[1], data[1], ('sex-TPRRatio', 'TPR diff'), yaxis)\n",
    "#plots[1].set_xlim(.75, 1.)\n",
    "for plot in plots:\n",
    "    plot.set_ylim(0.615, 0.69)\n",
    "#fig.savefig('dempar_vary_beta.eps', bbox_inches='tight')"
   ]
  },
  {
   "cell_type": "code",
   "execution_count": null,
   "metadata": {
    "collapsed": true
   },
   "outputs": [],
   "source": []
  }
 ],
 "metadata": {
  "kernelspec": {
   "display_name": "Python 3",
   "language": "python",
   "name": "python3"
  },
  "language_info": {
   "codemirror_mode": {
    "name": "ipython",
    "version": 3
   },
   "file_extension": ".py",
   "mimetype": "text/x-python",
   "name": "python",
   "nbconvert_exporter": "python",
   "pygments_lexer": "ipython3",
   "version": "3.6.3"
  }
 },
 "nbformat": 4,
 "nbformat_minor": 2
}
