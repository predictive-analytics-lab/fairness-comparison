{
 "cells": [
  {
   "cell_type": "code",
   "execution_count": 1,
   "metadata": {
    "collapsed": true
   },
   "outputs": [],
   "source": [
    "%matplotlib inline\n",
    "import plot_helpers as ph\n",
    "from plot_helpers import PlotDef, DataEntry"
   ]
  },
  {
   "cell_type": "code",
   "execution_count": 2,
   "metadata": {
    "collapsed": true
   },
   "outputs": [],
   "source": [
    "\n",
    "adult_datafiles = [\n",
    "    ('../results/parity_min_max/adult_race_numerical-binsensitive.csv', 'Adult (race)'),\n",
    "    ('../results/parity_min_max/adult_sex_numerical-binsensitive.csv', 'Adult (sex)'),\n",
    "]"
   ]
  },
  {
   "cell_type": "code",
   "execution_count": 3,
   "metadata": {
    "collapsed": true
   },
   "outputs": [],
   "source": [
    "def label_change(label):\n",
    "    parts = label.split('_')\n",
    "    mode = parts[-1]\n",
    "    # in_True = parts[4] == \"True\"\n",
    "    # optional_star = \"*\" if in_True else \"\"\n",
    "    # return f\"FairGPparity{optional_star}, {num}\", in_True\n",
    "    return \"average\" if mode == \"True\" else mode, True\n",
    "\n",
    "def filter_algos(label):\n",
    "    return \"True\" in label\n",
    "\n",
    "data = ph.parse_all(adult_datafiles, filter_algos, label_change)"
   ]
  },
  {
   "cell_type": "code",
   "execution_count": 4,
   "metadata": {
    "collapsed": true
   },
   "outputs": [],
   "source": [
    "# reorder the entries\n",
    "for i, d in enumerate(data):\n",
    "    data[i] = d._replace(entries=d.entries[2:3] + d.entries[0:2])"
   ]
  },
  {
   "cell_type": "code",
   "execution_count": 5,
   "metadata": {},
   "outputs": [
    {
     "data": {
      "text/plain": [
       "(0.808, 0.815)"
      ]
     },
     "execution_count": 5,
     "metadata": {},
     "output_type": "execute_result"
    },
    {
     "data": {
      "image/png": "[encoded data removed]",
      "text/plain": [
       "<matplotlib.figure.Figure at 0x11540a5f8>"
      ]
     },
     "metadata": {},
     "output_type": "display_data"
    }
   ],
   "source": [
    "xaxis = ('DIbinary', 'DIbinary')\n",
    "yaxis = ('accuracy', 'accuracy')\n",
    "fig, plots = ph.plot_all(ph.errorbox, data[:1], xaxis, yaxis, figsize=(2.7,2.5))\n",
    "plots[0, 0].set_ylim(0.808, 0.815)\n",
    "#fig.savefig('dempar_vary_beta.eps', bbox_inches='tight')"
   ]
  },
  {
   "cell_type": "code",
   "execution_count": null,
   "metadata": {
    "collapsed": true
   },
   "outputs": [],
   "source": []
  }
 ],
 "metadata": {
  "kernelspec": {
   "display_name": "Python 3",
   "language": "python",
   "name": "python3"
  },
  "language_info": {
   "codemirror_mode": {
    "name": "ipython",
    "version": 3
   },
   "file_extension": ".py",
   "mimetype": "text/x-python",
   "name": "python",
   "nbconvert_exporter": "python",
   "pygments_lexer": "ipython3",
   "version": "3.6.3"
  }
 },
 "nbformat": 4,
 "nbformat_minor": 2
}
