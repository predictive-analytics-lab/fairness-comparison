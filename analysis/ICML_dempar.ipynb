{
 "cells": [
  {
   "cell_type": "code",
   "execution_count": 2,
   "metadata": {},
   "outputs": [],
   "source": [
    "%matplotlib inline\n",
    "import plot_helpers as ph\n",
    "from matplotlib import pyplot as plt"
   ]
  },
  {
   "cell_type": "code",
   "execution_count": 23,
   "metadata": {},
   "outputs": [],
   "source": [
    "fairgp_files = [\n",
    "    ('../results/ICML/adult/gpyt2500_dempar_race.csv', ''),\n",
    "    ('../results/ICML/adult/gpyt2500_dempar_sex.csv', ''),\n",
    "]\n",
    "def label_change(label):\n",
    "    parts = label.split('_')\n",
    "    #mode = parts[-1]\n",
    "    in_True = parts[4] == \"True\"\n",
    "    optional_star = \"*\" if in_True else \"\"\n",
    "    with_s = \", use $s$\" if in_True else \"\"\n",
    "    #return f\"FairGPparity{optional_star}\", in_True\n",
    "    #return \"average\" if mode == \"True\" else mode, True\n",
    "    return f\"FairGP{with_s}\", not in_True\n",
    "\n",
    "fairgp = ph.parse_all(fairgp_files, label_change)"
   ]
  },
  {
   "cell_type": "code",
   "execution_count": 24,
   "metadata": {},
   "outputs": [],
   "source": [
    "lr_files = [\n",
    "    ('../results/ICML/adult/lr_baseline_and_dempar_race.csv', ''),\n",
    "    ('../results/ICML/adult/lr_baseline_and_dempar_sex.csv', ''),\n",
    "]\n",
    "def label_change(label):\n",
    "    parts = label.split('_')\n",
    "    #mode = parts[-1]\n",
    "    in_True = \"_in_True\" in label\n",
    "    with_s = \", use $s$\" if in_True else \"\"\n",
    "    #return f\"FairGPparity{optional_star}\", in_True\n",
    "    #return \"average\" if mode == \"True\" else mode, True\n",
    "    if \"_dem_par\" in label:\n",
    "        return f\"FairLR{with_s}\", not in_True\n",
    "\n",
    "fairlr = ph.parse_all(lr_files, label_change)"
   ]
  },
  {
   "cell_type": "code",
   "execution_count": 30,
   "metadata": {},
   "outputs": [],
   "source": [
    "fair = ph.merge_plot_defs(fairgp, fairlr)"
   ]
  },
  {
   "cell_type": "code",
   "execution_count": 25,
   "metadata": {},
   "outputs": [],
   "source": [
    "def label_change(label):\n",
    "    parts = label.split('_')\n",
    "    #mode = parts[-1]\n",
    "    in_True = \"_in_True\" in label\n",
    "    if in_True:\n",
    "        return \n",
    "    with_s = \", use $s$\" if in_True else \"\"\n",
    "    #return f\"FairGPparity{optional_star}\", in_True\n",
    "    #return \"average\" if mode == \"True\" else mode, True\n",
    "    if \"_dem_par\" not in label:\n",
    "        return f\"LR{with_s}\", not in_True\n",
    "\n",
    "baselinelr = ph.parse_all(lr_files, label_change)"
   ]
  },
  {
   "cell_type": "code",
   "execution_count": 26,
   "metadata": {},
   "outputs": [],
   "source": [
    "baselinegp_files = [\n",
    "    ('../results/ICML/adult/gpyt2500_baseline_race.csv', ''),\n",
    "    ('../results/ICML/adult/gpyt2500_baseline_sex.csv', ''),\n",
    "]\n",
    "def label_change(label):\n",
    "    parts = label.split('_')\n",
    "    #mode = parts[-1]\n",
    "    in_True = parts[2] == \"True\"\n",
    "    if in_True:\n",
    "        return\n",
    "    optional_star = \"*\" if in_True else \"\"\n",
    "    with_s = \", use $s$\" if in_True else \"\"\n",
    "    #return f\"FairGPparity{optional_star}\", in_True\n",
    "    #return \"average\" if mode == \"True\" else mode, True\n",
    "    return f\"GP{with_s}\", not in_True\n",
    "\n",
    "baselinegp = ph.parse_all(baselinegp_files, label_change)"
   ]
  },
  {
   "cell_type": "code",
   "execution_count": 27,
   "metadata": {},
   "outputs": [],
   "source": [
    "baseline_files = [\n",
    "    ('../results/parity_opp_update_2018-08-28/par_fixed/adult_race_baseline.csv', ''),\n",
    "    ('../results/parity_opp_update_2018-08-28/par_fixed/adult_sex_baseline.csv', ''),\n",
    "]\n",
    "def label_change(label):\n",
    "    algos = [\n",
    "        'ZafarFairness',\n",
    "#         'ZafarAccuracy',\n",
    "        'SVM',\n",
    "#         'GP',\n",
    "#         'DecisionTree',\n",
    "    ]\n",
    "    if label in algos:\n",
    "        return label, True\n",
    "    #if label == 'ZafarAccuracy':\n",
    "    #    return 'baseline: Zafar', True\n",
    "#     if label == 'SVM':\n",
    "#         return 'baseline: SVM', True\n",
    "\n",
    "baselines = ph.parse_all(baseline_files, label_change)"
   ]
  },
  {
   "cell_type": "code",
   "execution_count": 28,
   "metadata": {},
   "outputs": [],
   "source": [
    "baselines = ph.merge_plot_defs(baselinegp, baselinelr, baselines)"
   ]
  },
  {
   "cell_type": "code",
   "execution_count": 7,
   "metadata": {},
   "outputs": [],
   "source": [
    "# fairgp = ph.choose_entries(fairgp, [0, 5, 1, 6, 2, 7, 3, 8, 4, 9])"
   ]
  },
  {
   "cell_type": "code",
   "execution_count": 8,
   "metadata": {},
   "outputs": [],
   "source": [
    "ms = 4"
   ]
  },
  {
   "cell_type": "code",
   "execution_count": 9,
   "metadata": {},
   "outputs": [],
   "source": [
    "def acc_vs_di(plot, legend, *data):\n",
    "    xaxis = ('DIbinary', '$PR_{s=0}\\\\,/\\\\,PR_{s=1}$')\n",
    "    yaxis = ('accuracy', 'accuracy')\n",
    "    legends = []\n",
    "    startindex = 0\n",
    "\n",
    "    plot.axvline(x=1.0, linestyle='--', color='k', label=None if legend is None else \"perfect fairness\")\n",
    "    for data_structure in data:\n",
    "        legends += [ph.errorbox(plot, data_structure, xaxis, yaxis, legend=legend, firstcolor=startindex // 2, firstshape=startindex)]\n",
    "        startindex += len(data_structure.entries)\n",
    "    if legend is not None:\n",
    "        return legends"
   ]
  },
  {
   "cell_type": "code",
   "execution_count": 32,
   "metadata": {},
   "outputs": [
    {
     "data": {
      "image/png": "[encoded data removed]",
      "text/plain": [
       "<Figure size 648x187.2 with 2 Axes>"
      ]
     },
     "metadata": {
      "needs_background": "light"
     },
     "output_type": "display_data"
    }
   ],
   "source": [
    "fig, plots = plt.subplots(ncols=2, figsize=(9, 2.6))\n",
    "acc_vs_di(plots[0], None, fair[0], baselines[0])\n",
    "plots[0].set_title(\"(a) sensitive attribute: race\", loc='left')\n",
    "# plots[0].set_ylim(0.785, 0.865)\n",
    "# plots[0].set_xlim(0.07, 0.38)\n",
    "legends = acc_vs_di(plots[1], ('outside', 1.03), fair[1], baselines[1])\n",
    "plots[1].set_title(\"(b) sensitive attribute: gender\", loc='left')\n",
    "# plots[1].set_ylim(0.785, 0.865)\n",
    "\n",
    "fig.tight_layout()\n",
    "fig.subplots_adjust(bottom=0)\n",
    "# fig.savefig(\"/Users/tk324/dev/latex/Tunable_Fairness_ICML/figures/adult_parity_box.pdf\",\n",
    "#             dpi=200, bbox_extra_artists=legends, bbox_inches='tight', pad_inches=0)\n",
    "# fig"
   ]
  },
  {
   "cell_type": "code",
   "execution_count": null,
   "metadata": {},
   "outputs": [],
   "source": []
  }
 ],
 "metadata": {
  "kernelspec": {
   "display_name": "Python 3",
   "language": "python",
   "name": "python3"
  },
  "language_info": {
   "codemirror_mode": {
    "name": "ipython",
    "version": 3
   },
   "file_extension": ".py",
   "mimetype": "text/x-python",
   "name": "python",
   "nbconvert_exporter": "python",
   "pygments_lexer": "ipython3",
   "version": "3.7.1"
  }
 },
 "nbformat": 4,
 "nbformat_minor": 2
}
