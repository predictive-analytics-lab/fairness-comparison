{
 "cells": [
  {
   "cell_type": "code",
   "execution_count": 9,
   "metadata": {},
   "outputs": [],
   "source": [
    "from pathlib import Path\n",
    "import pandas as pd"
   ]
  },
  {
   "cell_type": "code",
   "execution_count": 6,
   "metadata": {},
   "outputs": [],
   "source": [
    "def find_min_tnr(csv_path):\n",
    "    if \"race\" in str(csv_path.name):\n",
    "        sens = \"race\"\n",
    "    elif \"sex\" in str(csv_path.name):\n",
    "        sens = \"sex\"\n",
    "    else:\n",
    "        raise ValueError(\"Unknown sensitive attribute\")\n",
    "\n",
    "    results = pd.read_csv(csv_path)\n",
    "    min_tnr = {}\n",
    "    for algo_name, entries in results.groupby('algorithm'):\n",
    "        tnr0 = entries[f'0-TNR-{sens}'].values.mean()\n",
    "        tnr1 = entries[f'1-TNR-{sens}'].values.mean()\n",
    "        min_tnr[algo_name] = min(tnr0, tnr1)\n",
    "    return min_tnr"
   ]
  },
  {
   "cell_type": "code",
   "execution_count": 12,
   "metadata": {},
   "outputs": [],
   "source": [
    "base_path = Path(\"../results\")"
   ]
  },
  {
   "cell_type": "code",
   "execution_count": 13,
   "metadata": {},
   "outputs": [
    {
     "data": {
      "text/plain": [
       "{'GPyT_in_False': 0.7236311239193084, 'GPyT_in_True': 0.7020172910662825}"
      ]
     },
     "execution_count": 13,
     "metadata": {},
     "output_type": "execute_result"
    }
   ],
   "source": [
    "find_min_tnr(base_path / \"propublica-recidivism_race_numerical-binsensitive.csv\")"
   ]
  },
  {
   "cell_type": "code",
   "execution_count": 14,
   "metadata": {},
   "outputs": [
    {
     "data": {
      "text/plain": [
       "{'GPyT_in_False': 0.7435334872979215, 'GPyT_in_True': 0.7244803695150115}"
      ]
     },
     "execution_count": 14,
     "metadata": {},
     "output_type": "execute_result"
    }
   ],
   "source": [
    "find_min_tnr(base_path / \"propublica-recidivism_sex_numerical-binsensitive.csv\")"
   ]
  },
  {
   "cell_type": "code",
   "execution_count": null,
   "metadata": {},
   "outputs": [],
   "source": []
  }
 ],
 "metadata": {
  "kernelspec": {
   "display_name": "Environment (conda_anaconda3)",
   "language": "python",
   "name": "conda_anaconda3"
  },
  "language_info": {
   "codemirror_mode": {
    "name": "ipython",
    "version": 3
   },
   "file_extension": ".py",
   "mimetype": "text/x-python",
   "name": "python",
   "nbconvert_exporter": "python",
   "pygments_lexer": "ipython3",
   "version": "3.6.5"
  }
 },
 "nbformat": 4,
 "nbformat_minor": 2
}
